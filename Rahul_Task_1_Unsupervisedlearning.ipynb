{
  "nbformat": 4,
  "nbformat_minor": 0,
  "metadata": {
    "colab": {
      "provenance": [],
      "collapsed_sections": []
    },
    "kernelspec": {
      "name": "python3",
      "display_name": "Python 3"
    },
    "language_info": {
      "name": "python"
    }
  },
  "cells": [
    {
      "cell_type": "code",
      "execution_count": 1,
      "metadata": {
        "id": "dEfnofdTrUMT",
        "colab": {
          "base_uri": "https://localhost:8080/"
        },
        "outputId": "92add619-750c-41b6-dcf6-958714f5b1be"
      },
      "outputs": [
        {
          "output_type": "stream",
          "name": "stdout",
          "text": [
            "Downloading data from https://storage.googleapis.com/tensorflow/tf-keras-datasets/mnist.npz\n",
            "11490434/11490434 [==============================] - 0s 0us/step\n"
          ]
        }
      ],
      "source": [
        "# Importing the dataset from keras\n",
        "import keras\n",
        "from keras.datasets import mnist\n",
        "(x_train, y_train), (x_test, y_test) = mnist.load_data()"
      ]
    },
    {
      "cell_type": "code",
      "source": [
        "# Checking the ‘type’\n",
        "print(type(x_train))\n",
        "print(type(x_test))\n",
        "print(type(y_train))\n",
        "print(type(y_test))"
      ],
      "metadata": {
        "id": "rW2DQ-ELrfAf",
        "colab": {
          "base_uri": "https://localhost:8080/"
        },
        "outputId": "253e2984-334e-40af-a3e2-ba52bfa7b87f"
      },
      "execution_count": 2,
      "outputs": [
        {
          "output_type": "stream",
          "name": "stdout",
          "text": [
            "<class 'numpy.ndarray'>\n",
            "<class 'numpy.ndarray'>\n",
            "<class 'numpy.ndarray'>\n",
            "<class 'numpy.ndarray'>\n"
          ]
        }
      ]
    },
    {
      "cell_type": "code",
      "source": [
        "# Checking the shape\n",
        "print(x_train.shape)\n",
        "print(x_test.shape)\n",
        "print(y_train.shape)\n",
        "print(y_test.shape)"
      ],
      "metadata": {
        "id": "p0yjZUEIri28",
        "colab": {
          "base_uri": "https://localhost:8080/"
        },
        "outputId": "bb22522c-43e6-45cc-8382-edf000fff10e"
      },
      "execution_count": null,
      "outputs": [
        {
          "output_type": "stream",
          "name": "stdout",
          "text": [
            "(60000, 28, 28)\n",
            "(10000, 28, 28)\n",
            "(60000,)\n",
            "(10000,)\n"
          ]
        }
      ]
    },
    {
      "cell_type": "code",
      "source": [
        "import matplotlib.pyplot as plt\n",
        "\n",
        "plt.gray() # B/W Images\n",
        "plt.figure(figsize = (10,8)) # Adjusting figure size\n",
        "# Displaying a grid of 3x3 images\n",
        "for i in range(9):\n",
        " plt.subplot(3,3,i+1)\n",
        " plt.imshow(x_train[i])"
      ],
      "metadata": {
        "id": "zDazUhUzrlDf",
        "colab": {
          "base_uri": "https://localhost:8080/",
          "height": 501
        },
        "outputId": "40006ecb-25f2-4287-a708-c0566ac5cd0d"
      },
      "execution_count": 3,
      "outputs": [
        {
          "output_type": "display_data",
          "data": {
            "text/plain": [
              "<Figure size 432x288 with 0 Axes>"
            ]
          },
          "metadata": {}
        },
        {
          "output_type": "display_data",
          "data": {
            "text/plain": [
              "<Figure size 720x576 with 9 Axes>"
            ],
            "image/png": "[encoded data removed]"
          },
          "metadata": {
            "needs_background": "light"
          }
        }
      ]
    },
    {
      "cell_type": "code",
      "source": [
        "# Printing examples in 'y_train'\n",
        "for i in range(10):\n",
        "  print(y_train[i])"
      ],
      "metadata": {
        "id": "DF72QXQproan",
        "colab": {
          "base_uri": "https://localhost:8080/"
        },
        "outputId": "7b05bf1c-fa1b-4738-8c25-c56a03ed61cb"
      },
      "execution_count": 4,
      "outputs": [
        {
          "output_type": "stream",
          "name": "stdout",
          "text": [
            "5\n",
            "0\n",
            "4\n",
            "1\n",
            "9\n",
            "2\n",
            "1\n",
            "3\n",
            "1\n",
            "4\n"
          ]
        }
      ]
    },
    {
      "cell_type": "code",
      "source": [
        "# Checking the minimum and maximum values of x_train\n",
        "print(x_train.min())\n",
        "print(x_train.max())"
      ],
      "metadata": {
        "id": "Up7dO8PLrqbj",
        "colab": {
          "base_uri": "https://localhost:8080/"
        },
        "outputId": "14b813ae-2b70-40af-a527-54d1951015aa"
      },
      "execution_count": 5,
      "outputs": [
        {
          "output_type": "stream",
          "name": "stdout",
          "text": [
            "0\n",
            "255\n"
          ]
        }
      ]
    },
    {
      "cell_type": "code",
      "source": [
        "# Data Normalization\n",
        "# Conversion to float\n",
        "x_train = x_train.astype('float32') \n",
        "x_test = x_test.astype('float32')\n",
        "# Normalization\n",
        "x_train = x_train/255.0\n",
        "x_test = x_test/255.0"
      ],
      "metadata": {
        "id": "OD37UArfrs1Z"
      },
      "execution_count": 6,
      "outputs": []
    },
    {
      "cell_type": "code",
      "source": [
        "# Checking the minimum and maximum values of x_train\n",
        "print(x_train.min())\n",
        "print(x_train.max())"
      ],
      "metadata": {
        "id": "uj1Abijarutl",
        "colab": {
          "base_uri": "https://localhost:8080/"
        },
        "outputId": "dc065ef0-5835-4c2e-8e69-6f45fb9b8bf4"
      },
      "execution_count": 7,
      "outputs": [
        {
          "output_type": "stream",
          "name": "stdout",
          "text": [
            "0.0\n",
            "1.0\n"
          ]
        }
      ]
    },
    {
      "cell_type": "code",
      "source": [
        "import numpy as np\n",
        "from sklearn.cluster import MiniBatchKMeans\n",
        "\n",
        "\n",
        "total_clusters = len(np.unique(y_test))\n",
        "\n",
        "# Initialize the K-Means model\n",
        "kmeans = MiniBatchKMeans(n_clusters = total_clusters)\n",
        "\n",
        "x_train = x_train.reshape(len(x_train),-1)\n",
        "# Fitting the model to training set\n",
        "kmeans.fit(x_train)"
      ],
      "metadata": {
        "id": "mh2qYMbLrxoF",
        "colab": {
          "base_uri": "https://localhost:8080/"
        },
        "outputId": "39b06c36-eb30-4c5b-a121-900ad195bd0e"
      },
      "execution_count": 8,
      "outputs": [
        {
          "output_type": "execute_result",
          "data": {
            "text/plain": [
              "MiniBatchKMeans(n_clusters=10)"
            ]
          },
          "metadata": {},
          "execution_count": 8
        }
      ]
    },
    {
      "cell_type": "code",
      "source": [
        "kmeans.labels_\n"
      ],
      "metadata": {
        "id": "BAcKzK9TrzkJ",
        "colab": {
          "base_uri": "https://localhost:8080/"
        },
        "outputId": "10d58dfa-8f12-4353-d0a0-17b97913941b"
      },
      "execution_count": 9,
      "outputs": [
        {
          "output_type": "execute_result",
          "data": {
            "text/plain": [
              "array([7, 5, 3, ..., 7, 8, 9], dtype=int32)"
            ]
          },
          "metadata": {},
          "execution_count": 9
        }
      ]
    },
    {
      "cell_type": "code",
      "source": [
        "def retrieve_info(cluster_labels,y_train):\n",
        "    \"\"\"Associates most probable label with each cluster in KMeans model\n",
        "       returns: dictionary of clusters assigned to each label\n",
        "     \"\"\"\n",
        "\n",
        "  # Initializing\n",
        "    reference_labels = {}\n",
        "  # For loop to run through each label of cluster label\n",
        "    for i in range(len(np.unique(kmeans.labels_))):\n",
        "        index = np.where(cluster_labels == i,1,0)\n",
        "        num = np.bincount(y_train[index==1]).argmax()\n",
        "        reference_labels[i] = num\n",
        "    return reference_labels"
      ],
      "metadata": {
        "id": "l0KDIo6Br2xQ"
      },
      "execution_count": 10,
      "outputs": []
    },
    {
      "cell_type": "code",
      "source": [
        "reference_labels = retrieve_info(kmeans.labels_,y_train)\n",
        "number_labels = np.random.rand(len(kmeans.labels_))\n",
        "for i in range(len(kmeans.labels_)):\n",
        "  number_labels[i] = reference_labels[kmeans.labels_[i]]"
      ],
      "metadata": {
        "id": "e6owXKfRr8pD"
      },
      "execution_count": 11,
      "outputs": []
    },
    {
      "cell_type": "code",
      "source": [
        "# Comparing Predicted values and Actual values\n",
        "print(number_labels[:20].astype('int'))\n",
        "print(y_train[:20])"
      ],
      "metadata": {
        "id": "i3i4xpuAr-zZ",
        "colab": {
          "base_uri": "https://localhost:8080/"
        },
        "outputId": "c9f07fbe-a393-4fd6-9e7a-29659a5f93a3"
      },
      "execution_count": 12,
      "outputs": [
        {
          "output_type": "stream",
          "name": "stdout",
          "text": [
            "[8 0 6 1 7 2 1 8 1 7 3 1 3 6 1 7 2 8 1 7]\n",
            "[5 0 4 1 9 2 1 3 1 4 3 5 3 6 1 7 2 8 6 9]\n"
          ]
        }
      ]
    },
    {
      "cell_type": "code",
      "source": [
        "# Calculating accuracy score\n",
        "from sklearn.metrics import accuracy_score\n",
        "print(accuracy_score(number_labels,y_train))"
      ],
      "metadata": {
        "id": "doa4aLiTsAvV",
        "colab": {
          "base_uri": "https://localhost:8080/"
        },
        "outputId": "16288893-7a96-4ba1-ba69-0c900f016930"
      },
      "execution_count": 13,
      "outputs": [
        {
          "output_type": "stream",
          "name": "stdout",
          "text": [
            "0.5434\n"
          ]
        }
      ]
    },
    {
      "cell_type": "markdown",
      "source": [
        "Task 1: Run the above code by solving all issues\n",
        "\n",
        "Task 2: Optimize the code to improve the accuracy using given tutorial\n",
        "\n",
        "Task 3: Try to run the code by using differnet dataset(Other than digits)"
      ],
      "metadata": {
        "id": "Wtj0eWnmZTur"
      }
    }
  ]
}